{
  "nbformat": 4,
  "nbformat_minor": 0,
  "metadata": {
    "colab": {
      "provenance": []
    },
    "kernelspec": {
      "name": "python3",
      "display_name": "Python 3"
    },
    "language_info": {
      "name": "python"
    }
  },
  "cells": [
    {
      "cell_type": "markdown",
      "source": [
        "Função e Visualização dos mapas conforme as coordenadas"
      ],
      "metadata": {
        "id": "o7M6OEYQErqE"
      }
    },
    {
      "cell_type": "code",
      "source": [
        "import folium\n",
        "from folium.plugins import HeatMap\n",
        "import pandas as pd\n"
      ],
      "metadata": {
        "id": "yd7Fk39Y_UA2"
      },
      "execution_count": 1,
      "outputs": []
    },
    {
      "cell_type": "code",
      "source": [
        "def geramapa(ano): \n",
        "  if ano =='2017': \n",
        "     ler2017 = pd.read_excel('sample_data/latitude_2017.xlsx')\n",
        "     mapa2017 = folium.Map(location=[-22.5413, -43.1235],  zoom_start=8)\n",
        "     locais2017 = ler2017[[\"geo_lat\", \"geo_long\"]].values.tolist()\n",
        "     HeatMap(locais2017, radius=15).add_to(mapa2017)\n",
        "     mapa2017.save('mapa2017.html')\n",
        "     mapa = mapa2017\n",
        "  if ano =='2018': \n",
        "     ler2018 = pd.read_excel('sample_data/latitude_2018.xlsx')\n",
        "     mapa2018 = folium.Map(location=[-22.5413, -43.1235],  zoom_start=8)\n",
        "     locais2018 = ler2018[[\"geo_lat\", \"geo_long\"]].values.tolist()\n",
        "     HeatMap(locais2018, radius=15).add_to(mapa2018)\n",
        "     mapa2018.save('mapa2018.html')\n",
        "     mapa = mapa2018\n",
        "  if ano =='2019': \n",
        "     ler2019 = pd.read_excel('sample_data/latitude_2019.xlsx')\n",
        "     mapa2019 = folium.Map(location=[-22.5413, -43.1235],  zoom_start=8)\n",
        "     locais2019 = ler2019[[\"geo_lat\", \"geo_long\"]].values.tolist()\n",
        "     HeatMap(locais2019, radius=15).add_to(mapa2019)\n",
        "     mapa2019.save('mapa2019.html')\n",
        "     mapa = mapa2019\n",
        "  if ano =='2020': \n",
        "     ler2020 = pd.read_excel('sample_data/latitude_2020.xlsx')\n",
        "     mapa2020 = folium.Map(location=[-22.5413, -43.1235],  zoom_start=8)\n",
        "     locais2020 = ler2020[[\"geo_lat\", \"geo_long\"]].values.tolist()\n",
        "     HeatMap(locais2020, radius=15).add_to(mapa2020)\n",
        "     mapa2020.save('mapa2020.html')\n",
        "     mapa = mapa2020\n",
        "  if ano =='2021': \n",
        "     ler2021 = pd.read_excel('sample_data/latitude_2021.xlsx')\n",
        "     mapa2021 = folium.Map(location=[-22.5413, -43.1235],  zoom_start=8)\n",
        "     locais2021 = ler2021[[\"geo_lat\", \"geo_long\"]].values.tolist()\n",
        "     HeatMap(locais2021, radius=15).add_to(mapa2021)\n",
        "     mapa2021.save('mapa2021.html')\n",
        "     mapa = mapa2021\n",
        "  if ano =='2022': \n",
        "     ler2022 = pd.read_excel('sample_data/latitude_2022.xlsx')\n",
        "     mapa2022 = folium.Map(location=[-22.5413, -43.1235],  zoom_start=8)\n",
        "     locais2022 = ler2022[[\"geo_lat\", \"geo_long\"]].values.tolist()\n",
        "     HeatMap(locais2022, radius=15).add_to(mapa2022)\n",
        "     mapa2022.save('mapa2020.html')\n",
        "     mapa = mapa2022\n",
        "  return(mapa)\n"
      ],
      "metadata": {
        "id": "u6sF4qFA_VLe"
      },
      "execution_count": 20,
      "outputs": []
    },
    {
      "cell_type": "code",
      "source": [
        "geramapa('2022')"
      ],
      "metadata": {
        "id": "GlxRlocL_gxp"
      },
      "execution_count": null,
      "outputs": []
    }
  ]
}